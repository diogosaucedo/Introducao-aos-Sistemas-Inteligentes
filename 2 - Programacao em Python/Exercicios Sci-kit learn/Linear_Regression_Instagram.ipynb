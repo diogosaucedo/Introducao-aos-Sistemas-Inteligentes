{
  "nbformat": 4,
  "nbformat_minor": 0,
  "metadata": {
    "colab": {
      "name": "Linear Regression - Instagram.ipynb",
      "provenance": []
    },
    "kernelspec": {
      "name": "python3",
      "display_name": "Python 3"
    },
    "language_info": {
      "name": "python"
    }
  },
  "cells": [
    {
      "cell_type": "markdown",
      "source": [
        "# Enunciado [PT-BR]\n",
        "Utilize o Sci-kit learn para criar um método de classificação usando regressão linear. O objetivo será determinar se um perfil do Instagram é falso ou autêntico.\n",
        "\n",
        "Os atributos da base de treinamento são: número de seguidores, número de seguindo, quantidade de publicações, média de curtidas por publicação, média de comentários por publicação. A classe é identificada apenas como -1 (para falso) ou 1 (para autêntico).\n",
        "# Statement\n",
        "Use Sci-kit learn to create a classification method using linear regression. The goal will be to determine whether an Instagram profile is fake or authentic.\n",
        "\n",
        "The attributes of the training base are: number of followers, number of following, number of posts, average number of likes per post, average number of comments per post.The class is identified only as -1 (for false) or 1 (for authentic).\n",
        "\n",
        "# Dataset\n",
        "![Dataset.png](data:image/png;base64,iVBORw0KGgoAAAANSUhEUgAAAbQAAACmCAIAAAA9P+01AAAAAXNSR0IArs4c6QAAAARnQU1BAACxjwv8YQUAAAAJcEhZcwAADsMAAA7DAcdvqGQAACH3SURBVHhe7Z3va9vMlsf3fzIUBHlhCBi6NDwQ80AMhZq+qCnUG7YmbAwP1FsIKgQFHkxe1ARqunSVJShs9jqXoEJxLl0ENyDIrnIpyiWrLLmoZEEQEBj6as/MSLIkjxI7TWxJOR/yIrZlac6cM9/5IXnO3/1AEARBRkBxRBAE4YDiiCAIwgHFEUEQhAOKI4IgCAcURwRBEA4ojgiCIBxQHBEEQTigOCIIgnBAcUQQBOGA4oggCMIBxRFBEIRDdsTRdaxvpnnhei8fHu6FaX6znHurANe24Pw25/yuc2Yap7Y78F4jhAcSkAPXPjPNU8tJvfdJAzkxzHCgDsBHhnnueC8nZEJxHLjWUa/zrtlYaTTX2vK+Zl56n9wNl7r8W621bYx6wj3rNeYKlU19Gk66ZzPdb0rrVaOj2d7rcRg4+malMNfonY3RGge28VlRdvy/vb5+c3y4xodqoVCTv42c37WU10Jhqa3DOZIddDvsI1n8rdnakLVTy9iVpJ89s2uf9JX3YnOl0VhttT/1tG+3bBge9x2QV5a+35XeQqQ1W+sd5bNuXXmfpATnqFMpFIoriplQsNsEc5jbxOoIA8fYbhQLjIX6Sr32m6xDm73ot0qF0lrfvpWPJhFHaJ8fal4BPEqtz7etFC7nKjHmjTo6fpmeON6/mY4mlQtCY8ecYNQxkTheGd0XXtF9yuL+9ZcbTxyTHXQbLvX2U6H0tFqZY4VcEL/8RD27Vv93MCGC8DqxVSfgWgdtcavvGXifAekcy82SV06fsvT1ThvU+EA3sC4pJ1FhsrX2s4Lw8jrpu00wh7lNrI5g98UnhcKLtqobutaXV8FnLfXcnaI4wpUeFwovu0SSARiyHhtWpDJd55Kn+le2dTbupAwmd3Y0ml3HhrkkPxavnMRpJlw0EtH8srmXlnUZPcWNZg4c7lXJtHTcTs91Lux4oxo4NldyBqQCksTRveQVhQXci64BNQmjYK3bgEb4i9i/rt2FxdF1wi4IiyO8GnHQDydW1QQ3yTHhgx2zf9A3LmFCpKu7Sk+z4kGSVNWjXoPyb9cF0NfVrgatguKc6frZmB7x7XKt3moRJNXyTz9RQPKthlOMBsZFX/q1UHhUlQ5M7wxXtqEbkYpMDm8oQ7hULhwYqzpG4hmoEaGvOEftyqOypEXK6Z5rvU+Kzg8b1zlnMcwJZn5YwlUuRoJnjFglZ+Na55fB/SbDcKb6wfAuSmqH/js1cWTRsPCOdyXX1j40FpjuP6qIO17EuLbeXfXe9ilL/T8PqwMIN/sL0lEHl7B1pfkL+5ZQeVmFSvNj0bW+dBrQV1BKr9t9Jhm0GQsvpM4aG0HQps4t28Ax99u1oN+eq0qfveZwnZnQu76BSQZlsdnVvEh2jpXWkve2R6n1x6No4wkFAetsm/twRSpJxZq4VvfLUhH3/EncldXf9Mewj6s1aEuBOIJRH5tl77Nibb1nhqM6HHDAwNF+h2Nr8sn3mMLaX0QIHjpeY+JYrC6TeiaU6p2vtE7C4hhxEPXCIjsaKqSlnrnuhdZ9UwWRogi131V/nsg52Htz1I8At6qTvQZjHAlOviRxxjgjtRGJt8eFylpHeknnZJV/lv4xFK4w+jgeKyCTrIbAEJ/5b0OFbml+ULnmdh2OTBhwXRfehafN1kvfRa87vS9wCfYKDBmGgfOtJz73Lg2HsTPQwCs13rWq3lCdFdW1PkvVR+wdAlGZK0t9HwQYOYNGV1fpGRaa79sNGEBAV/Su/9f/DIIZSpgQlhDJW34bBJZavWCCkhSrtJO2vrT9hlGsbXhni5Xh7//hn2p+XYFFzV1dXVsgvruYojj+uDLll3D5heZHLTZgND6BpwuVtx15u9tegUqg86OB3YdSwiB5R9OP1PYrcFWptatbf7s2WP1YdE97zXn4Rl36IMsfJFZHLBZhsE/azdNW55Msb4kkKlmrINFDDisI1dZ7Wd5VTYdfNuhq6o8KpVdSd1sm778VZTYuApLMJGMKKES5udmVP3WaoIalJikzmRuCeDW7h7r+pUscVmx0NfP76djiSAssbslw2hacSqiTyIAogWqBkr+BkssdphSslgaO8ZEYVV5tQ/m766RuFt6qvk6MBJxrq29K0BKVbzeKI1yiRkrysd0kQlbtQrUkiCNbjSr82mx/hOM70u8KiV0YEL2qkzNAmX+DKPdWJLgHX+NHblVf4zVHJ+evvA+8GOJ6cWRtjxZM+Q/1D/8q1UA4njTan2RlT7P+OlZA8q2GMoFs/dIgJoObNlrSni+FdHxaKDZ7/iA3zI3hLTwX4aPumifHpdekQmiECI1deomLvgjue1yX4NL0DMIr2XBY4JFv1Ne7pAJX4VUR4vB/9R4tdqH6Dt5X1GOblPBtrUEOk7u/k8Fc+XcNLPXPUFggFyWD/e9BMCeHpbXfLEKIr5GzgffFt6F5elKsnrrecucLsQvGrteh+6qCf0fKsP1v2/9CS1gkgdHrn5j9d9MXRyg5dEfeEGmhvqHozLWXWvvXgrAse4s7dFpafKNa32lwPO+CVwDroFVk7fCmYKWxCKIGgybWbgm0GdNYhD4Nqq/Y6J36LfwzfIn42PWip9IOZgcJZTv5M6n36mZ/KCghuGa6J10Qj+qW1/wcrQ0eqm+bDm2xLHSIom2UmS3xadd14ig097yC2IcicSw0LW8Zxa8l9nVWS2yU9NKrWHJR6GwfhZYL2cFLUu+w39uRO29JKypBmF6FqpoyOnKkpSKw0GQVzhFH5oU5EsT0cA6kBopUsFzewexNnh+dhKqGgEryGjVEaPjVGOGmeCs8EdXgprNDurrhtHqcgIw2vKHV4KZfIPa6emSqTPEc5K1UREiuFi+8H9G+E7ikYfBE7IMKAKGiWrsNYbh86RofoeSVju4wWVnwxQKKCqJFQ9cF/SJfCRpOGFbaV6QRsTOQ+zNBhQXBnBiWDh0ml8UDkzM7ToxVW30LsUmXDgGwfUUoLJJOYrQMkWk1jMlmIo4E1za+yNIyHSOXmso3rz8vlKr1143GSqPB5mUvZfO7KS8LhSd0AjWwtU0I+Er7yLkxWImDXWphqBm7p0pdoLH4f1Rzg6/TjzwZYs0YatC/uXxN2ZTfyL+F+Zr4UY2u9FBGzKS9X0FYqpPzwN8L8hFc9PsZKTNxFcSEY3Rf0XiFrncCcax0j30zj6H9k49Ac0lEB18Pyy41aviR136G7da71hAywSEhG65qyog4VrsnflWAOj8uCCs9y+GJI/MC1KTvBQ+ot89d6U2zsVyjdUfLyT2YDax4fvzLH/hV7TiJXrMPJTiozp2l3hRv5H5L0HiSxPGagITvcq12HZi10MHdQn1d7ofvm8PsBOIkFKhDkqvFC+9fJW81nNlFNYtwqUFvKvymQlG1dVKK8ktaeyuN2q9EcMRDm8nKsJbgK7/4ehoTR3jnqNd912y8rnvrLMPQjdRzEMxslOBVCCUIS/e8L/5KziHAcHhfjyw7JsUqq4fCQm2ZWvG6XoGYgLH2mTtahtSIo4drfZGgGy9vaN//qwsl8wTI/2ttkuE0hCwcE1B5R9dibgpWFouk3wjNO4Za8396G4Z1y6F+g34EJfGi5+mwQ4bhXlLZfriO+UUW2fLNXJ3MHzkEZv7pL/8OvTFtscGpVppkogTlj9zdLjV3yaLhJOI4HPQNxZGOnobzxFAtMaOqW14PDVCNK7YOLO81uxb0xkeGEX40cjJxpAOfZHGMeYEACrIOcVsoPW+2Ye652YQ2ynUZAWSI78fkqiYH8b3GxvXldV4zGCfegm8li2NiQF4lWE3O6drHapeOhmhg+LYO6NnY+kmMxGoZCW9q17CoIXHsr5H6Kb/waw/+VskSRCjw/K/wxdE198Bu6OZrrc2u/JEu/MVD12MojteHpWNpO1KDrdg+a8en1aOxyuqhsFAFcQysgPn4BacMaRNHL25gAGyzodNqb1hYHzI1e1SsvevKOz3txL9hzRb1nnW8WmSrDPFgdfT3ZArVPfaq2ltUIrHo9Z9B/bJpV+2TQecdEXFkj2Jwy+YD/Wy3JiTXoG8mXXimV/E+CCDLmoJQaW3Jyl7f8O9LQkyTOQvENDstaA10nuOL4zlZ4Ro+REJmW0W/lsjiQOj5Em/eREbljJgcBDBdEOr+9NY1d0CGwuJIxhf0IzrohuYStMn4tNpUlunYJ4hy4FxtQpNf8Zqre+IPfrkHM2fx/EiXsbhVHTDiNYiPpzCiJGN8+jrEWPFGPwKSxPGagDxLsDoUTu5ZX4Jx0HAe7U1EKr8Ht2h8kqslHt5J4jhwqCtD8eAzrji61F+PW96E/ZLq1E3i6N4YlgCUbZvU1nABJClWoQxgbLBoECKN4ugcK+33sqoZxolhHGvKOjiA3m6D0pCes9TYUnX46MTQDmT5EIrumttQ5lJ9g6zyKjtK7wudCbFuk9yW1Y1vhr4nQpCNBivEBLxffN3tH5um3u++hlhiMQeOhKMKlfWefmIaR702VC5bzxoVx4Syff/W6+6oOvRUlzB97tQeFRbWvTBNNPNS7zyHC9Xa+zr9SFd3ZBXmSmxxfa4mwqiBPsiq6vSRFLrcWXjSlL8a5omusvvOY4sjaQkrMODg1ZJn1EJrRzO+mfrnTn2enjmwOingoKxkNapQ2wTbTeOr3CK3+cLiCN9qQx9uHmvybzAAKkuglaxWY+I4cE16qso7RTuGutL7+6r+3/QpqBed/qltnfS75KaK5zLOwXayHxOq2kn2GjHtgJyt8KTR2dfIt4iv2eNBY8WbB6u6X1q9E8s6s+z/GSMgzxOs/q4rn5S+blqXjnWsSqDdzzrDyARxhQtBk34n93UabEf93q5qXI4d3oniSDu2ObicqLAw1vvKpx5MxpPF0VtCrX3QrHMw/C8k9ooN+ciyz3T1PV0cuFEcE8MSpl+yfKAZZ7Zjm9qnBrkVtR+d5XBjldZD+Y1XP/rXnrxLnlpIpTgekR4sTHVd9dY7bJ3FSgDp6Aa2vkUVIURplTyU6xzLwfPswMIiVNdIsEJf/YnchPIoLpCIYR2yG3rGhVDxHukYFUeAV7bvR/SGYAA0Bn/9+xoznZPgSQ4G7RUdQ14ZFpNR/wgzazI3YStQlFIZjopHWLI4wv+nKhlu+JSekHgltQTEjFpsRR7fTQw4MoBlbZIhLC5ERo5CuTJ8KoLc+iCdGV8c4SqWuh6qRZCb0+/6R7bKRlmsVoq+y0YPBkOS/JhQ1eRZPO8lJeQ1AnnQR/Lu4PqwBjNWvHmAjpMxHQEKefTHmwPSdfhW/43eUhtSkb4M2zNAHgAij0+EYE16zPBOFkdixQHtAwLoOvg14kjukYN8U6Dwf/1Tm3aVFKFS/VUQbhRHeMEPS3Yva0hphdw697gmVuP1UBDoFDCN4gi4NnRl/R6MAQ/1kV+Vus4Z7as/QxdBlg6gL1qAGPzQJ0cOXPtU762Vh/faHMv4qvb2yTzUvSS/6iXfIb+FNMOPUjvnhn6oqpppX9HfeIYuSi/XU78aoeeBya+AIz+u9IiXjbx1YeqHPWVX1Y5NfyLgcZ2ZUEIYBu4pcF3yNTbbelRtf6YPisM3dbUNiuaPEeAq2ude74tuXrrOhWmyh+GhA/0GAwpyZvhG5BfNV8OPvJfHmnrQ16HYQS0xSEk0da8HY5NY+UltQz0kPXjvOpbe7+2p2ontXJEKZ08skZLAV+AdXVOhooZeAN/R9SA4G89BxMDPml9RxNFQKvXIdFzXOQ+7jA3uhOpGz/BX7gCeHymxqqZc4zUPF4ZvMDKlvg5HwnjxRvFM6B/DMWMGZILVcNEjFQIJJiJx63zgYENTlV3wY+SYm8Pb87IfEWDLadQWCDMyGqURwt4OBR4h9hUo7SG40ot5EroHJHShFqBSR0PXY/Sco2FJmr+h7SvKfl//Fg3L62OV1Cz1+F5fP/F/3z1aBigfuMm/Hql/Fq7gPhg4j/1DgBg/seZ4A8MHCPw3LDK7YUOG3MA68/AD/Rea5C/QIFFcW1Ok5VJhPl8xgOSU+xNHMpehk40Svd9Ur9CJR3VzZAU628Dcmc7CihVyQ3yZPG9QKJTF4JcbSICt99izysXrno5EkJRwj+IIOGd674NEtkhZaYrvZe9ORc4YuJaudjda5GksuhPM+L/nfVjYWvdts/FGkjXsOZAMcL/iiCAIklFQHBEEQTigOCIIgnBAcUQQBOGA4oggCMIBxRFBEIQDiiOCIAiHmYmjc9rvvC7TR6aF0vOm7G9oCLjH3cYifbD6mRjZZOXK6LKvzFfFYPen9OHonepcQTryXjKyblSY2/gu5diab1Gx/DqST8o6EKuPBWLpcuT9zDCwtfeN8jy17VnEWZmMPV7juidmJY6u/kFSjr0fVDpfpfKcqDHnXKrNeW9PLbKf6HxT9TYEddTVItnhkvxk0lSWi82DFD5r7ZrbjdKyKD6N+i/bRsW4he9SjtNbEeo73j4x1k5dWOl5bjjplP0taYmlix0ja79icA/brV1vX2CyZcNcS/Vsy1zsJTSueyMl02pdKtSVC/KfvVtfeG/QNwn6hlDfpf31hVJ/EgrNI0l4paSuI7d74lvVGtjKq4j/sm3UDYzhu7Sjt+c8EwjnSm2urdN/wYTGfiAZ4FZhOs3y3rCUF35kZi72EhrX/ZECcRyQ3eRLKz3mGG29EO7B7L16YYMGqiYVVv0+D7B79YLEIjh9xP2XC6N4jOm7tOPqm2VvW2KSjqJS+cAkHqRkoXNC/6Xom1mR+wQGRudJRT6l/2c19h6GOMJAgyyEkA0Tg5RJI5YfSQXaoZGDIy1tOGBJHzEr8mFUhIl8lwHYHunz5crjCt3dkhF3x4i/MgZ0V0VfEDMbew9DHD0GrvVFLM+36PoUimM2xNFjPN+lH/tQqj5ryUeGvt2qzFfI/ueEXImje9SuLEm6v5MeiuONpGTN0e2vFep7JCL1jZGp2bpG/oOWNjIL0IIVk3QR918ujEpiDN+lnMteY07sB/tvnit1kHtiB/gxPq2u+fdtsoV73KkutdRz7yUhq7H3gMUROrTwor7xfoF/7+K4s5DeUUncf7kwKokxfJdy4iNccJ/A7shEb8iQm9rTaZZ3C1XG0H7MjKzGXv7F0TaO/B3/2dRszn/sgz0Ockb+5T31QvvttD95MOK/PBgVcAvfpRtXE+fqXT8JD33exX84iT3KQz/J6qM8XGUkZDH2gPyLo9X7rcYeTPUeuw0tdrjfFPEZfZB4sRFkuydcmcpalT6zWm6wZDopheO/7BsVcCvfpRtS7JfBQ+BSn+o7w9Y6dfYQ+HMxMi3NBiQU4wRLjdmLPSD/4oggCJJqUBwRBEE4oDgiCIJwQHFEEAThgOKIIAjCAcURQRCEA4ojgiAIBxRHBEEQDiiOCIIgHFAcEQRBOKA4IgiCcEijOGY1SRNwoXh7wDJC25zkKcHWKNNMezQd8mfRkLNea7GQ7S3Np2JC+sQxq0maKCcJ+z4lGpXFBFsxpp326P7Jn0VD7EOpsiSKKxkWx6mZkDpxjO0JmJ0kTZQjibtTdKJRmUtyNMrU0x7dO/mzKMDVO6sd44psS5xVcZyiCakTx8wmaSK4hyK3tLlNsDUkf1KSR3H0ybA4+jxAcRyJyPguzamGqN58kW4LSLLdd70k8IlGwYgyKqZZyyEzBMUxS6A4jgOK4x3j+rdUnGO5PleVybapKI5ZBMUx1TxAcSQ2x2egmUjSxANm08x/iUaBSmY+wRYDxTFLZEgcoage0UHSQxTHrCZp4pCzrGHXg+KYJTIkjkk8RHHMapImgmMc6hbL8JnDrGHXg+KYJVAcxyF94ggqkc0kTVBwY7tZJcmYCoW5UiVvWcOuB8UxS6A4jkMaxRFBEGTmoDgiCIJwQHFEEAThgOKIIAjCAcURQRCEA4ojgiAIBxRHBEEQDiiOCIIgHFAcEQRBOKA4IgiCcEBxRBAE4TBjceSmMcpwLqqBrb1vlOdJ2cuvu3poE4lcJdi6RR6x9OGcKOLzEvkl/FypvtG3QjvFWQci/Y28UFrueBsWUzKZ+u1Cl9eqpTniqOJiQ/pCdzlhZDD2ppn4bIbimJDGKMu5qIyt8sKaatNmZn8Ry4v+dmQ5S7A1cR6x9DEw5bdt7YwKwsBSloXyB5N+QKwrL0oaLbnzVRrDianG2pM6Xy0SYKzY3gbMQOZib9qJz2YnjglpjLKci8qUn1bkU+8F+LK/JjDTsmwUj6MJ84ilH2244TwUu7EfyATE501OzBKh5pa52Jt64rOZrznGTc1yLiq9PVdTzr0XgPmxzNpPzhJsTZxHLPU4+43CWp8OIy3lxULnhL5L0Tc9EcyudR50j9HKUkendmY2udvDFccRy7OUbsXV3gnlDc3xpzCNedauMm0UB6ILk+QRSzuu3l4s+4IYd4Hvo8xaB0BRKaVV2fBLnNHY4zji3kBxvFOCnWvnSvX3Ws+beWXcKB4T5RFLNQOrt1Kq7wa3KfIojoyBa4Oz5itd2g2gON5I6qbVen5yUTnqKhSR/JcjozjcnEcstQws9U2luhXegB0CMj6trtE8Ftmzjof5qSJsUk3Mauw9YHGEDi0nuaigwHOiRptdfoziMEYesXRClbH+Kf4IS/SGjNNb4d+QyWjqt6E4ZjX2HrA45iMXlXuutZ8Xh5O1XBjlc4s8YukjQRkJ7FEe6gfOozyZsG6IY+qmzZwFL8gaSLC6msXYAx6yOIKnspuLisxNAHqb4mukG85Rgq1b5RFLGzCpjDNccbO1Tp09BP5cVEOPH2Qw9ZujbzUqzFnUHOUkpICZTO72gMQRQRAkjaA4IgiCcEBxRBAE4YDiiCAIwgHFEUEQhAOKI4IgCAcURwRBEA4ojgiCIBxQHBEEQTigOCIIgnBAcUQQBOEwXXF0DMXL9SOUlqV++Ferk+afGlgqOxXdOZGlbZk9d2hgChk4+lZVGNkvOifpqCa0LpMME8CBU5pyNn4ezuOs11r0Nsq7P6YqjuZ2q+3n+rF26sJi18tplJi6KDEHkLFV9vbcHjjaRrm8NdxLaobcoYGp48qUV0r1d2IlJh/5SEc1qXXZxD1st3YNm0qio0nluVZoQ8fMYB9KlSVRXMmXOEYYaMHOw7Gd8m7OPzXQpblGL2hsZOdESU9b1P6MgenD3hdbBxYpcFQ+8pGOalLrcoGlvJjS9jZ3iat3VjvGFbgmx+J42WsURJbTaOL8U+dKDTSFvUnQ23Pp2+H9ZwxMLXH5yFc6qrGtywMDo/MknCwzY+RYHF19M5gLj2zQ5mfngNEHP82Ff4DP9LZ4G5ufMzC1xOUjXxlXxrUuD0B3VQx3zFkjt+Jo7TVKy4rlTSdzKI4/a2BqQXHMhTi6R+3KkqT7O4RnkXyKo3XQqjwnqwYBiamLoEVxcwBBEMen1ZGE0bPlDgxMLXH5ABHMUTqqsa3LNO5xp7rUCu9wnmYgkDyinWsOxZEIx7JsRrss6JD5qYuYCAZiEeQAit2Quew1UnND5m4MTC1x+YAYzVE6qrGtyy5UGcV+6l1xI3kTR65wEBJTFyXmAErnozx3aGBKGZGPXKWjGt+6bJIbZQRyJo46J6eRb97E+afI46x19hB4dU31V/dmy50amE5G5QMGiblJRzWJdRmELATHyewSag6n1QiCIJkAxRFBEIQDiiOCIAgHFEcEQRAOKI4IgiAcUBwRBEE4oDgiCIJwQHFEEAThgOKIIAjCAcURQRCEA4ojgiAIhzsTR/trh2VTKsxXm9u83wifdMrR3fEmTsyUnIsq3TmeeL9pTf/mhqMkpKAiv3P/0KT1H7FrdpUf+5F7qMCT52u7wyi9X3KfvY7i6J3q3JQ2b70jcbzqt98qw8w9i0Lrc3R3GVdvP6/Xn4bEceLETMm5qCY+1Ywx3i9Ut7O2LWBSCqofdm9ZKL/rW6FGR5hh5Ttqc1TBCZPna7vDKL1ncp+9jpRyu1FaFsWn2RLHKNZOLbrbh6tvVpoHhvJqKI4TJ2a6SMxFNfGpZgsJVrE/uq1ZuklKQeV+FYVnshn4xWeWlQ+F5A7Mk0IoOV/bHUbpVMll9jq7J75VrQGZh2VYHGFkVPnk9VsAjBorZL9rsCoQx8kTMyXmospYjidruxoO1owBTSUqjkk5p2ZZ+adyhStJE+dru8MonS55zl6XaXG86EXmUFe6tMRehsVx4twj/gEBwRkmPtUscXXpSVWmW8Bmkrg40kr+rHeXS6XHJWG4dDXTytfbwlyxSFbfyFaS0r63mpYYQvGyBYW/wyidJvnOXje98ty1OF7p7aWKdMSiEXD1jYp46AUniqOz3xDeaUHtZA+eOArLssFGIFdm95UgfgX7Zlz5rl/F7nlfXGRFuoUc3GGUTo+8Z6+bXnnuVByvjM7zClmZ8nGPpMoaG90DYFUQKPD/hImZwGcjswCai2ryU82KgSk/W+gce68yCXfkGIrUoMmlp/KHK+BJIQRGxSeSLF/bHUbplLiD5G6JtZES4iF3f9ydOFJlFA8jgwNwDAev8UyYmIn5LIizUC6qiU81I9i9i6zdpY4SF8cfxtZCqPKJEi3QCV16Kt/8VBE2aZGTQig5X9sdRukUyH32OkrmxJGnjCOAVaEpRlLqIvbkwUS5qCY+1UwA8735XYYZEccf50p9Uewzt17AHLbsDbVmV/nWUd9kT5VBPBzL9Tm/SMkhdMOjPHcSpfdM7rPX+WRNHKF38kaFQ6JNiBAVR3g9aWKm5FxUGcjxBD1zuKPOKKPiCJV8LDdpJQuP6+HnpGdV+fahxJ55hiuXX4rKSUieJs/XdodRep/oec9eF5C5kSOCIEi+QHFEEAThgOKIIAjCAcURQRCEA4ojgiAIBxRHBEEQDiiOCIIgHFAcEQRBOKA4IgiCcEBxRBAE4YDiiCAIwiFt4uioq0Jkm7lZpSu6HYlJjmI/fQ39PDlbBvJISkGVXfJnUUA6Us79NGe91uLwx+P3RLrE0d6r11+F9+BkG4fMIF3R7UhMcjR5yqfMkJSCKrvkz6IAtkNP+lLOTYR9KFWWRHHlQYnjRa++1DE0aSiOsS3nZpWu6HaEkhwRQ7glz7SBlOiOh2RbtunsmHJ/5M+igNjejmDpfevL3ePqnVWym6++8YDE0e4tV8i+e0chcUxJuqLbEUpyNHHKp8yQmIIqs+TPoiHpTDl3Ox6QOFq79QrbUzMkjmSbyIjzZpCR47aEkxxBwSdM+ZQZ4gUesShz5M+igJGdEKGtZW2mEvBgxPFcqb/wcx/nQhyjSY4Ik6V8ygwojhkCxXEyUiCOA0tZrsmn3qvItBr+n2m6otsxmuQoxs0pnzIDtDd+CqrMkj+LhoCgxKfVs005NwZQZo+ojj8McSQ7749Ce+/Y/Yrppiu6HYmpPELcnPIpOySloMou+bMoAEbBqUo59zM8mGl1mPDIMTkHUDpJUsZbpHzKDEkpqLJL/iwKSFfKuZ8CxXFW6Ypuh56U5Og2KZ+yQ1IKquySP4sCUpRy7ud4kOKIIAiSAlAcEQRBOKA4IgiCcEBxRBAE4YDiiCAIwgHFEUEQhAOKI4IgCAcURwRBEA4ojgiCIBxQHBEEQTigOCIIgnBAcUQQBOGA4oggCMIBxRFBEIQDiiOCIAgHFEcEQZARfvz4f9F1UsIPaq8fAAAAAElFTkSuQmCC)\n",
        "\n",
        "\n"
      ],
      "metadata": {
        "id": "0apcpe72v689"
      }
    },
    {
      "cell_type": "markdown",
      "source": [
        "Importing Sci-kit Learn"
      ],
      "metadata": {
        "id": "7ds2VUP8wM_M"
      }
    },
    {
      "cell_type": "code",
      "execution_count": 1,
      "metadata": {
        "id": "PhIE7FY1vvxW"
      },
      "outputs": [],
      "source": [
        "from sklearn import linear_model"
      ]
    },
    {
      "cell_type": "markdown",
      "source": [
        "Creating a training model"
      ],
      "metadata": {
        "id": "y1-FzCS8wzPD"
      }
    },
    {
      "cell_type": "code",
      "source": [
        "model = linear_model.LinearRegression()"
      ],
      "metadata": {
        "id": "YARERtrtwuAg"
      },
      "execution_count": 2,
      "outputs": []
    },
    {
      "cell_type": "markdown",
      "source": [
        "`X` = Stores the training samples, `y` = Stores the target."
      ],
      "metadata": {
        "id": "Us_Ndw-4w90a"
      }
    },
    {
      "cell_type": "code",
      "source": [
        "X = [[300,100,30,80,20], [0,500,1,1,1], [100,900,50,200,30], [2000,200,100,10,2], [2400000,7,160,500000,2000], [40,250,0,0,0]]\n",
        "y = [1,-1,1,-1,1,-1]"
      ],
      "metadata": {
        "id": "-y2hWb9xyEH8"
      },
      "execution_count": 3,
      "outputs": []
    },
    {
      "cell_type": "markdown",
      "source": [
        "Training model"
      ],
      "metadata": {
        "id": "X21PBHhez6Ul"
      }
    },
    {
      "cell_type": "code",
      "source": [
        "model.fit(X, y)"
      ],
      "metadata": {
        "colab": {
          "base_uri": "https://localhost:8080/"
        },
        "id": "E9pwiOYz0Ak0",
        "outputId": "e9003262-1957-446b-9e6b-3f1f98c17234"
      },
      "execution_count": 4,
      "outputs": [
        {
          "output_type": "execute_result",
          "data": {
            "text/plain": [
              "LinearRegression()"
            ]
          },
          "metadata": {},
          "execution_count": 4
        }
      ]
    },
    {
      "cell_type": "markdown",
      "source": [
        "Samples for test"
      ],
      "metadata": {
        "id": "kVIJa3Y-0Huk"
      }
    },
    {
      "cell_type": "code",
      "source": [
        "A = [50,1000,10,2,1]\n",
        "B = [5000000,80,3500,200000,2600]"
      ],
      "metadata": {
        "id": "-Vo_RVko0K1D"
      },
      "execution_count": 5,
      "outputs": []
    },
    {
      "cell_type": "markdown",
      "source": [
        "Predição"
      ],
      "metadata": {
        "id": "yc8B2WSM0gcj"
      }
    },
    {
      "cell_type": "code",
      "source": [
        "print(model.predict([A]))\n",
        "print(model.predict([B]))"
      ],
      "metadata": {
        "colab": {
          "base_uri": "https://localhost:8080/"
        },
        "id": "qWhwqyBi0jrz",
        "outputId": "dde09b6b-97a6-45c5-c46e-a15dfecf8e00"
      },
      "execution_count": 6,
      "outputs": [
        {
          "output_type": "stream",
          "name": "stdout",
          "text": [
            "[-1.28424195]\n",
            "[3553.70201619]\n"
          ]
        }
      ]
    },
    {
      "cell_type": "markdown",
      "source": [
        "Due to the characteristics of Linear Regression and data set, the returned values of the prediction function need to be treated."
      ],
      "metadata": {
        "id": "LpdJ-Ahm6eFe"
      }
    },
    {
      "cell_type": "code",
      "source": [
        "def convert_predict(classe):\n",
        "  return \"AUTHENTIC\" if classe > 0 else 'FALSE'"
      ],
      "metadata": {
        "id": "GDiFSMDTBeaP"
      },
      "execution_count": 7,
      "outputs": []
    },
    {
      "cell_type": "markdown",
      "source": [
        "After the treatment, we have the following result."
      ],
      "metadata": {
        "id": "07ESCdXqDXAP"
      }
    },
    {
      "cell_type": "code",
      "source": [
        "print(\"A: \", convert_predict(model.predict([A])))\n",
        "print(\"B: \", convert_predict(model.predict([B])))"
      ],
      "metadata": {
        "colab": {
          "base_uri": "https://localhost:8080/"
        },
        "id": "kjOMAlQTCAz3",
        "outputId": "59ac9292-996d-47b8-8438-1bd104cb2019"
      },
      "execution_count": 8,
      "outputs": [
        {
          "output_type": "stream",
          "name": "stdout",
          "text": [
            "A:  FALSE\n",
            "B:  AUTHENTIC\n"
          ]
        }
      ]
    }
  ]
}